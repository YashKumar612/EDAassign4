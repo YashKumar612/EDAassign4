{
 "cells": [
  {
   "cell_type": "code",
   "execution_count": 5,
   "metadata": {},
   "outputs": [
    {
     "ename": "ValueError",
     "evalue": "invalid mode: '/Users/yashkumar/Desktop/datasets/MARKS.csv'",
     "output_type": "error",
     "traceback": [
      "\u001b[0;31m---------------------------------------------------------------------------\u001b[0m",
      "\u001b[0;31mValueError\u001b[0m                                Traceback (most recent call last)",
      "\u001b[1;32m/Users/yashkumar/Desktop/datasets/miniproject4.ipynb Cell 1\u001b[0m in \u001b[0;36m<module>\u001b[0;34m\u001b[0m\n\u001b[1;32m      <a href='vscode-notebook-cell:/Users/yashkumar/Desktop/datasets/miniproject4.ipynb#W0sZmlsZQ%3D%3D?line=5'>6</a>\u001b[0m total_marks \u001b[39m=\u001b[39m \u001b[39m0\u001b[39m\n\u001b[1;32m      <a href='vscode-notebook-cell:/Users/yashkumar/Desktop/datasets/miniproject4.ipynb#W0sZmlsZQ%3D%3D?line=6'>7</a>\u001b[0m \u001b[39m# Open the input file\u001b[39;00m\n\u001b[0;32m----> <a href='vscode-notebook-cell:/Users/yashkumar/Desktop/datasets/miniproject4.ipynb#W0sZmlsZQ%3D%3D?line=7'>8</a>\u001b[0m \u001b[39mwith\u001b[39;00m \u001b[39mopen\u001b[39;49m(input_file, \u001b[39m\"\u001b[39;49m\u001b[39m/Users/yashkumar/Desktop/datasets/MARKS.csv\u001b[39;49m\u001b[39m\"\u001b[39;49m) \u001b[39mas\u001b[39;00m file:\n\u001b[1;32m      <a href='vscode-notebook-cell:/Users/yashkumar/Desktop/datasets/miniproject4.ipynb#W0sZmlsZQ%3D%3D?line=8'>9</a>\u001b[0m     \u001b[39m# Read each line in the input file\u001b[39;00m\n\u001b[1;32m     <a href='vscode-notebook-cell:/Users/yashkumar/Desktop/datasets/miniproject4.ipynb#W0sZmlsZQ%3D%3D?line=9'>10</a>\u001b[0m     \u001b[39mfor\u001b[39;00m line \u001b[39min\u001b[39;00m file:\n\u001b[1;32m     <a href='vscode-notebook-cell:/Users/yashkumar/Desktop/datasets/miniproject4.ipynb#W0sZmlsZQ%3D%3D?line=10'>11</a>\u001b[0m         \u001b[39m# Split the line into roll number and marks\u001b[39;00m\n\u001b[1;32m     <a href='vscode-notebook-cell:/Users/yashkumar/Desktop/datasets/miniproject4.ipynb#W0sZmlsZQ%3D%3D?line=11'>12</a>\u001b[0m         roll_number, marks \u001b[39m=\u001b[39m line\u001b[39m.\u001b[39mstrip()\u001b[39m.\u001b[39msplit()\n",
      "\u001b[0;31mValueError\u001b[0m: invalid mode: '/Users/yashkumar/Desktop/datasets/MARKS.csv'"
     ]
    }
   ],
   "source": [
    "# Define the input and output file paths\n",
    "input_file = \"input.txt\"\n",
    "output_file = \"output.txt\"\n",
    "\n",
    "# Initialize the total marks variable\n",
    "total_marks = 0\n",
    "# Open the input file\n",
    "with open(input_file, \"/Users/yashkumar/Desktop/datasets/MARKS.csv\") as file:\n",
    "    # Read each line in the input file\n",
    "    for line in file:\n",
    "        # Split the line into roll number and marks\n",
    "        roll_number, marks = line.strip().split()\n",
    "        \n",
    "        # Convert the marks to an integer and add it to the total marks\n",
    "        total_marks += int(marks)\n",
    "\n",
    "# Write the total marks to the output file\n",
    "with open(output_file, \"w\") as file:\n",
    "    file.write(str(total_marks))\n",
    "\n",
    "# Print the total marks to the console\n",
    "print(\"Total Marks:\", total_marks)"
   ]
  }
 ],
 "metadata": {
  "kernelspec": {
   "display_name": "Python 3.9.6 64-bit",
   "language": "python",
   "name": "python3"
  },
  "language_info": {
   "codemirror_mode": {
    "name": "ipython",
    "version": 3
   },
   "file_extension": ".py",
   "mimetype": "text/x-python",
   "name": "python",
   "nbconvert_exporter": "python",
   "pygments_lexer": "ipython3",
   "version": "3.9.6"
  },
  "orig_nbformat": 4,
  "vscode": {
   "interpreter": {
    "hash": "7812ea015bdcee6f23a998adcdd2ef97c151c0c241b7b7070987d9313e41299d"
   }
  }
 },
 "nbformat": 4,
 "nbformat_minor": 2
}
